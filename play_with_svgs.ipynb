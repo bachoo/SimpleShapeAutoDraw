{
 "cells": [
  {
   "cell_type": "markdown",
   "metadata": {},
   "source": [
    "# Play With SVGs\n",
    "\n",
    "a notebook to work out how to:\n",
    "* open an existing svg\n",
    "* add shapes with a defined fill\n",
    "* save under a new name"
   ]
  },
  {
   "cell_type": "code",
   "execution_count": 8,
   "metadata": {},
   "outputs": [],
   "source": [
    "from xml.etree import ElementTree as et\n",
    "import sys\n",
    "import os"
   ]
  },
  {
   "cell_type": "code",
   "execution_count": 9,
   "metadata": {},
   "outputs": [],
   "source": [
    "tree = et.parse('pattern_definitions.svg')\n",
    "root = tree.getroot()"
   ]
  },
  {
   "cell_type": "code",
   "execution_count": 10,
   "metadata": {},
   "outputs": [
    {
     "data": {
      "text/plain": [
       "[<Element '{http://www.w3.org/2000/svg}defs' at 0x106721408>,\n",
       " <Element '{http://sodipodi.sourceforge.net/DTD/sodipodi-0.dtd}namedview' at 0x106774ae8>,\n",
       " <Element '{http://www.w3.org/2000/svg}metadata' at 0x106774b38>,\n",
       " <Element '{http://www.w3.org/2000/svg}g' at 0x106774db8>,\n",
       " <Element '{http://www.w3.org/2000/svg}g' at 0x106774e08>]"
      ]
     },
     "execution_count": 10,
     "metadata": {},
     "output_type": "execute_result"
    }
   ],
   "source": [
    "root.getchildren()"
   ]
  },
  {
   "cell_type": "code",
   "execution_count": 11,
   "metadata": {},
   "outputs": [],
   "source": [
    "# in this document layer 1 is above layer 2\n",
    "layer1 = next(element for element in root.getchildren() \n",
    "              if (element.tag=='{http://www.w3.org/2000/svg}g' and element.attrib['id'] == 'layer1'))"
   ]
  },
  {
   "cell_type": "code",
   "execution_count": 12,
   "metadata": {},
   "outputs": [],
   "source": [
    "layer2 = next(element for element in root.getchildren() \n",
    "              if (element.tag=='{http://www.w3.org/2000/svg}g' and element.attrib['id'] == 'layer2'))"
   ]
  },
  {
   "cell_type": "code",
   "execution_count": 13,
   "metadata": {},
   "outputs": [],
   "source": [
    "for e in layer1.getchildren():\n",
    "    print(e.tag)\n",
    "    print(e.attrib)"
   ]
  },
  {
   "cell_type": "code",
   "execution_count": 36,
   "metadata": {},
   "outputs": [],
   "source": [
    "# cut and pasted from a rectange that worked\n",
    "\n",
    "rect = et.SubElement(layer1,\"ns0:rect\",\n",
    "                     **{'style': 'opacity:1;fill:white;fill-opacity:1;stroke:none;stroke-width:'\n",
    "                     '3.11315393;stroke-linecap:round;stroke-linejoin:round;stroke-miterlimit:4;stroke-dasharray:none'\n",
    "                     ';stroke-dashoffset:0;stroke-opacity:1', \n",
    "                     'id': 'rect8528', 'width': '278.40213', 'height': '258.64456', 'x': '-36.31543', 'y': '15.005571'})\n",
    "\n",
    "rect = et.SubElement(layer1,\"ns0:rect\",\n",
    "                     **{'style': 'opacity:1;fill:url(#Checkerboard);fill-opacity:1;stroke:none;stroke-width:'\n",
    "                     '3.11315393;stroke-linecap:round;stroke-linejoin:round;stroke-miterlimit:4;stroke-dasharray:none'\n",
    "                     ';stroke-dashoffset:0;stroke-opacity:1', \n",
    "                     'id': 'rect8528', 'width': '278.40213', 'height': '258.64456', 'x': '-36.31543', 'y': '15.005571'})\n",
    "\n",
    "circle = et.SubElement(layer1,\"ns0:ellipse\",\n",
    "                       **{'style': 'opacity:1;fill:white;fill-opacity:1;stroke:none;stroke-width:3.11315393'\n",
    "                          ';stroke-linecap:round;stroke-linejoin:round;stroke-miterlimit:4;'\n",
    "                          'stroke-dasharray:none;stroke-dashoffset:0;stroke-opacity:1', \n",
    "                          'id': 'path7032', 'cx': '34.632214', 'cy': '80.564781', 'rx': \n",
    "                          '45.80164', 'ry': '42.209358'})\n",
    "\n",
    "circle = et.SubElement(layer1,\"ns0:ellipse\",\n",
    "                       **{'style': 'opacity:1;fill:url(#Strips4_1);fill-opacity:1;stroke:none;stroke-width:3.11315393'\n",
    "                          ';stroke-linecap:round;stroke-linejoin:round;stroke-miterlimit:4;'\n",
    "                          'stroke-dasharray:none;stroke-dashoffset:0;stroke-opacity:1', \n",
    "                          'id': 'path7032', 'cx': '34.632214', 'cy': '80.564781', 'rx': \n",
    "                          '45.80164', 'ry': '42.209358'})\n",
    "\n"
   ]
  },
  {
   "cell_type": "code",
   "execution_count": 37,
   "metadata": {},
   "outputs": [],
   "source": [
    "tree.write('new_drawing.svg')"
   ]
  },
  {
   "cell_type": "code",
   "execution_count": 41,
   "metadata": {},
   "outputs": [
    {
     "data": {
      "text/plain": [
       "0"
      ]
     },
     "execution_count": 41,
     "metadata": {},
     "output_type": "execute_result"
    }
   ],
   "source": [
    "# export\n",
    "os.system(\"inkscape -z new_drawing.svg -w 100 -h 100 -D -e exported_drawing.png\")"
   ]
  },
  {
   "cell_type": "code",
   "execution_count": 14,
   "metadata": {},
   "outputs": [],
   "source": [
    "patterns = [p for p in root.find('{http://www.w3.org/2000/svg}defs').getchildren() \n",
    " if (p.tag == '{http://www.w3.org/2000/svg}pattern')]"
   ]
  },
  {
   "cell_type": "code",
   "execution_count": 15,
   "metadata": {},
   "outputs": [
    {
     "name": "stdout",
     "output_type": "stream",
     "text": [
      "pattern4130\n",
      "Checkerboard\n",
      "sand_bitmap\n",
      "pattern3868\n",
      "Strips4_1\n",
      "pattern2909\n",
      "Polkadots-med\n"
     ]
    }
   ],
   "source": [
    "for p in patterns:\n",
    " print(p.attrib['id'])"
   ]
  },
  {
   "cell_type": "code",
   "execution_count": 7,
   "metadata": {},
   "outputs": [
    {
     "data": {
      "text/plain": [
       "'300000'"
      ]
     },
     "execution_count": 7,
     "metadata": {},
     "output_type": "execute_result"
    }
   ],
   "source": [
    "'{:d}'.format(300000).zfill(4)"
   ]
  },
  {
   "cell_type": "code",
   "execution_count": 16,
   "metadata": {},
   "outputs": [
    {
     "data": {
      "text/plain": [
       "<xml.etree.ElementTree.ElementTree at 0x1066a71d0>"
      ]
     },
     "execution_count": 16,
     "metadata": {},
     "output_type": "execute_result"
    }
   ],
   "source": [
    "tree"
   ]
  },
  {
   "cell_type": "code",
   "execution_count": null,
   "metadata": {},
   "outputs": [],
   "source": []
  }
 ],
 "metadata": {
  "kernelspec": {
   "display_name": "Python 3",
   "language": "python",
   "name": "python3"
  },
  "language_info": {
   "codemirror_mode": {
    "name": "ipython",
    "version": 3
   },
   "file_extension": ".py",
   "mimetype": "text/x-python",
   "name": "python",
   "nbconvert_exporter": "python",
   "pygments_lexer": "ipython3",
   "version": "3.6.4"
  }
 },
 "nbformat": 4,
 "nbformat_minor": 2
}
